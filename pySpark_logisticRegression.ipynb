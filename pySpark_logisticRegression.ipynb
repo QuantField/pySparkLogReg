{
 "cells": [
  {
   "cell_type": "code",
   "execution_count": 1,
   "metadata": {},
   "outputs": [],
   "source": [
    "from pyspark import SparkConf, SparkContext\n",
    "conf = SparkConf().setMaster('local').setAppName('myApp')\n",
    "sc   = SparkContext(conf=conf)"
   ]
  },
  {
   "cell_type": "code",
   "execution_count": 2,
   "metadata": {},
   "outputs": [],
   "source": [
    "path = '/home/userx/Downloads/2018/09/19/'\n",
    "json1 ='13:00:00_13:59:59_S0.json'"
   ]
  },
  {
   "cell_type": "code",
   "execution_count": 2,
   "metadata": {},
   "outputs": [],
   "source": [
    "from pyspark.sql import SQLContext\n",
    "sQ = SQLContext(sc)\n",
    "\n",
    "df = sQ.createDataFrame([\n",
    "(1, 144.5, 5.9, 33, 'M'),\n",
    "(2, 167.2, 5.4, 45, 'M'),\n",
    "(3, 124.1, 5.2, 23, 'F'),\n",
    "(4, 144.5, 5.9, 33, 'M'),\n",
    "(5, 133.2, 5.7, 54, 'F'),\n",
    "(3, 124.1, 5.2, 23, 'F'),\n",
    "(5, 129.2, 5.3, 42, 'M'),\n",
    "], ['id', 'weight', 'height', 'age', 'gender'])"
   ]
  },
  {
   "cell_type": "code",
   "execution_count": 4,
   "metadata": {
    "scrolled": true
   },
   "outputs": [
    {
     "name": "stdout",
     "output_type": "stream",
     "text": [
      "root\n",
      " |-- id: long (nullable = true)\n",
      " |-- weight: double (nullable = true)\n",
      " |-- height: double (nullable = true)\n",
      " |-- age: long (nullable = true)\n",
      " |-- gender: string (nullable = true)\n",
      "\n"
     ]
    }
   ],
   "source": [
    "df.printSchema()"
   ]
  },
  {
   "cell_type": "code",
   "execution_count": 5,
   "metadata": {},
   "outputs": [
    {
     "data": {
      "text/plain": [
       "['INFANT_ALIVE_AT_REPORT,BIRTH_PLACE,MOTHER_AGE_YEARS,FATHER_COMBINED_AGE,CIG_BEFORE,CIG_1_TRI,CIG_2_TRI,CIG_3_TRI,MOTHER_HEIGHT_IN,MOTHER_PRE_WEIGHT,MOTHER_DELIVERY_WEIGHT,MOTHER_WEIGHT_GAIN,DIABETES_PRE,DIABETES_GEST,HYP_TENS_PRE,HYP_TENS_GEST,PREV_BIRTH_PRETERM',\n",
       " '0,1,29,99,0,0,0,0,99,999,999,99,0,0,0,0,0']"
      ]
     },
     "execution_count": 5,
     "metadata": {},
     "output_type": "execute_result"
    }
   ],
   "source": [
    "ff = 'file:///home/userx/Downloads/births_transformed.csv'\n",
    "rdd = sc.textFile(ff)\n",
    "rdd.take(2)"
   ]
  },
  {
   "cell_type": "code",
   "execution_count": 6,
   "metadata": {},
   "outputs": [
    {
     "data": {
      "text/plain": [
       "['0,1,29,99,0,0,0,0,99,999,999,99,0,0,0,0,0',\n",
       " '0,1,22,29,0,0,0,0,65,180,198,18,0,0,0,0,0',\n",
       " '0,1,38,40,0,0,0,0,63,155,167,12,0,0,0,0,0',\n",
       " '0,1,39,42,0,0,0,0,60,128,152,24,0,0,0,0,1',\n",
       " '0,1,18,99,6,4,2,2,61,110,130,20,0,0,0,0,0']"
      ]
     },
     "execution_count": 6,
     "metadata": {},
     "output_type": "execute_result"
    }
   ],
   "source": [
    "head = rdd.first()\n",
    "data = rdd.filter(lambda x : x!=head)\n",
    "data.take(5)"
   ]
  },
  {
   "cell_type": "code",
   "execution_count": 13,
   "metadata": {},
   "outputs": [],
   "source": [
    "datX = sQ.read.csv('file:///home/userx/Downloads/births_transformed.csv.gz',header=True)"
   ]
  },
  {
   "cell_type": "code",
   "execution_count": 14,
   "metadata": {},
   "outputs": [
    {
     "data": {
      "text/plain": [
       "Row(INFANT_ALIVE_AT_REPORT='0', BIRTH_PLACE='1', MOTHER_AGE_YEARS='29', FATHER_COMBINED_AGE='99', CIG_BEFORE='0', CIG_1_TRI='0', CIG_2_TRI='0', CIG_3_TRI='0', MOTHER_HEIGHT_IN='99', MOTHER_PRE_WEIGHT='999', MOTHER_DELIVERY_WEIGHT='999', MOTHER_WEIGHT_GAIN='99', DIABETES_PRE='0', DIABETES_GEST='0', HYP_TENS_PRE='0', HYP_TENS_GEST='0', PREV_BIRTH_PRETERM='0')"
      ]
     },
     "execution_count": 14,
     "metadata": {},
     "output_type": "execute_result"
    }
   ],
   "source": [
    "datX.head()"
   ]
  },
  {
   "cell_type": "markdown",
   "metadata": {},
   "source": [
    "## This is an example from the tutorial"
   ]
  },
  {
   "cell_type": "code",
   "execution_count": 3,
   "metadata": {},
   "outputs": [],
   "source": [
    "import pyspark.sql.types as typ\n",
    "labels = [\n",
    "            ('INFANT_ALIVE_AT_REPORT', typ.IntegerType()),\n",
    "            ('BIRTH_PLACE', typ.StringType()),\n",
    "            ('MOTHER_AGE_YEARS', typ.IntegerType()),\n",
    "            ('FATHER_COMBINED_AGE', typ.IntegerType()),\n",
    "            ('CIG_BEFORE', typ.IntegerType()),\n",
    "            ('CIG_1_TRI', typ.IntegerType()),\n",
    "            ('CIG_2_TRI', typ.IntegerType()),\n",
    "            ('CIG_3_TRI', typ.IntegerType()),\n",
    "            ('MOTHER_HEIGHT_IN', typ.IntegerType()),\n",
    "            ('MOTHER_PRE_WEIGHT', typ.IntegerType()),\n",
    "            ('MOTHER_DELIVERY_WEIGHT', typ.IntegerType()),\n",
    "            ('MOTHER_WEIGHT_GAIN', typ.IntegerType()),\n",
    "            ('DIABETES_PRE', typ.IntegerType()),\n",
    "            ('DIABETES_GEST', typ.IntegerType()),\n",
    "            ('HYP_TENS_PRE', typ.IntegerType()),\n",
    "            ('HYP_TENS_GEST', typ.IntegerType()),\n",
    "            ('PREV_BIRTH_PRETERM', typ.IntegerType())\n",
    "]\n",
    "\n",
    "schema = typ.StructType([\n",
    "        typ.StructField(e[0], e[1], False) for e in labels\n",
    "])\n",
    "\n",
    "births = sQ.read.csv('file:///home/userx/Downloads/births_transformed.csv.gz',\n",
    "                        header=True,\n",
    "                        schema=schema)"
   ]
  },
  {
   "cell_type": "code",
   "execution_count": 4,
   "metadata": {},
   "outputs": [
    {
     "data": {
      "text/plain": [
       "Row(INFANT_ALIVE_AT_REPORT=0, BIRTH_PLACE='1', MOTHER_AGE_YEARS=29, FATHER_COMBINED_AGE=99, CIG_BEFORE=0, CIG_1_TRI=0, CIG_2_TRI=0, CIG_3_TRI=0, MOTHER_HEIGHT_IN=99, MOTHER_PRE_WEIGHT=999, MOTHER_DELIVERY_WEIGHT=999, MOTHER_WEIGHT_GAIN=99, DIABETES_PRE=0, DIABETES_GEST=0, HYP_TENS_PRE=0, HYP_TENS_GEST=0, PREV_BIRTH_PRETERM=0)"
      ]
     },
     "execution_count": 4,
     "metadata": {},
     "output_type": "execute_result"
    }
   ],
   "source": [
    "births.head()"
   ]
  },
  {
   "cell_type": "code",
   "execution_count": 5,
   "metadata": {},
   "outputs": [],
   "source": [
    "births.registerTempTable('births')"
   ]
  },
  {
   "cell_type": "code",
   "execution_count": 6,
   "metadata": {},
   "outputs": [
    {
     "name": "stdout",
     "output_type": "stream",
     "text": [
      "+-----------+--------+\n",
      "|BIRTH_PLACE|count(1)|\n",
      "+-----------+--------+\n",
      "|          7|      91|\n",
      "|          3|     224|\n",
      "|          5|      74|\n",
      "|          6|      11|\n",
      "|          9|       8|\n",
      "|          1|   44558|\n",
      "|          4|     327|\n",
      "|          2|     136|\n",
      "+-----------+--------+\n",
      "\n"
     ]
    }
   ],
   "source": [
    "sQ.sql('select BIRTH_PLACE,count(*) from births group by 1 ').show()"
   ]
  },
  {
   "cell_type": "code",
   "execution_count": 10,
   "metadata": {},
   "outputs": [],
   "source": [
    "# need to hot encode birth place\n",
    "# first convert to integer in order to hot encode it\n",
    "#import pyspark.ml.feature as ft\n",
    "births = births \\\n",
    ".withColumn('BIRTH_PLACE_INT', births['BIRTH_PLACE'].cast(typ.IntegerType()))\n"
   ]
  },
  {
   "cell_type": "code",
   "execution_count": 13,
   "metadata": {},
   "outputs": [
    {
     "name": "stdout",
     "output_type": "stream",
     "text": [
      "+---------------+--------+\n",
      "|BIRTH_PLACE_INT|count(1)|\n",
      "+---------------+--------+\n",
      "|              1|   44558|\n",
      "|              2|     136|\n",
      "|              3|     224|\n",
      "|              4|     327|\n",
      "|              5|      74|\n",
      "|              6|      11|\n",
      "|              7|      91|\n",
      "|              9|       8|\n",
      "+---------------+--------+\n",
      "\n"
     ]
    }
   ],
   "source": [
    "births.registerTempTable('births')\n",
    "sQ.sql('select BIRTH_PLACE_INT,count(*) from births group by 1 order by 1 ').show()"
   ]
  },
  {
   "cell_type": "code",
   "execution_count": 15,
   "metadata": {},
   "outputs": [],
   "source": [
    "import pyspark.ml.feature as ft\n",
    "encoder = ft.OneHotEncoder(inputCol='BIRTH_PLACE_INT', outputCol= 'BIRTH_PLACE_VEC')"
   ]
  },
  {
   "cell_type": "code",
   "execution_count": 25,
   "metadata": {},
   "outputs": [
    {
     "data": {
      "text/plain": [
       "{Param(parent='OneHotEncoder_8463df2221d7', name='outputCol', doc='output column name.'): 'BIRTH_PLACE_VEC',\n",
       " Param(parent='OneHotEncoder_8463df2221d7', name='dropLast', doc='whether to drop the last category'): True,\n",
       " Param(parent='OneHotEncoder_8463df2221d7', name='inputCol', doc='input column name.'): 'BIRTH_PLACE_INT'}"
      ]
     },
     "execution_count": 25,
     "metadata": {},
     "output_type": "execute_result"
    }
   ],
   "source": [
    "encoder.extract"
   ]
  },
  {
   "cell_type": "code",
   "execution_count": 21,
   "metadata": {},
   "outputs": [],
   "source": [
    "featureCreator = ft.VectorAssembler( \n",
    "    inputCols  = [ col[0] for col in labels[2:] ] + [encoder.getOutputCol()],\n",
    "    outputCol  = 'features'\n",
    ")"
   ]
  },
  {
   "cell_type": "code",
   "execution_count": null,
   "metadata": {},
   "outputs": [],
   "source": []
  },
  {
   "cell_type": "code",
   "execution_count": 37,
   "metadata": {},
   "outputs": [
    {
     "data": {
      "text/plain": [
       "['MOTHER_AGE_YEARS',\n",
       " 'FATHER_COMBINED_AGE',\n",
       " 'CIG_BEFORE',\n",
       " 'CIG_1_TRI',\n",
       " 'CIG_2_TRI',\n",
       " 'CIG_3_TRI',\n",
       " 'MOTHER_HEIGHT_IN',\n",
       " 'MOTHER_PRE_WEIGHT',\n",
       " 'MOTHER_DELIVERY_WEIGHT',\n",
       " 'MOTHER_WEIGHT_GAIN',\n",
       " 'DIABETES_PRE',\n",
       " 'DIABETES_GEST',\n",
       " 'HYP_TENS_PRE',\n",
       " 'HYP_TENS_GEST',\n",
       " 'PREV_BIRTH_PRETERM',\n",
       " 'BIRTH_PLACE_VEC']"
      ]
     },
     "execution_count": 37,
     "metadata": {},
     "output_type": "execute_result"
    }
   ],
   "source": [
    "\n",
    "featureCreator.getInputCols()"
   ]
  },
  {
   "cell_type": "code",
   "execution_count": 28,
   "metadata": {},
   "outputs": [],
   "source": [
    "# Logistic Regression\n",
    "import pyspark.ml.classification as cl\n",
    "logistic = cl.LogisticRegression(\n",
    "                maxIter=10,\n",
    "                regParam=0.01,\n",
    "                featureCols = featureCreator.getOutputCol,(),\n",
    "                labelCol    ='INFANT_ALIVE_AT_REPORT')"
   ]
  },
  {
   "cell_type": "code",
   "execution_count": 31,
   "metadata": {},
   "outputs": [],
   "source": [
    "# Create a pipeline\n",
    "from pyspark.ml import Pipeline\n",
    "pipline = Pipeline(stages = [ encoder, featureCreator, logistic])"
   ]
  },
  {
   "cell_type": "code",
   "execution_count": 32,
   "metadata": {},
   "outputs": [],
   "source": [
    "# Train and test splits \n",
    "train, test = births.randomSplit([0.7, 0.3], seed = 123)"
   ]
  },
  {
   "cell_type": "code",
   "execution_count": 33,
   "metadata": {},
   "outputs": [],
   "source": [
    "model = pipline.fit(train)\n",
    "model_test = model.transform(test)"
   ]
  },
  {
   "cell_type": "code",
   "execution_count": 35,
   "metadata": {},
   "outputs": [
    {
     "data": {
      "text/plain": [
       "[Row(INFANT_ALIVE_AT_REPORT=0, BIRTH_PLACE='1', MOTHER_AGE_YEARS=12, FATHER_COMBINED_AGE=99, CIG_BEFORE=0, CIG_1_TRI=0, CIG_2_TRI=0, CIG_3_TRI=0, MOTHER_HEIGHT_IN=62, MOTHER_PRE_WEIGHT=145, MOTHER_DELIVERY_WEIGHT=152, MOTHER_WEIGHT_GAIN=7, DIABETES_PRE=0, DIABETES_GEST=0, HYP_TENS_PRE=0, HYP_TENS_GEST=0, PREV_BIRTH_PRETERM=0, BIRTH_PLACE_INT=1, BIRTH_PLACE_VEC=SparseVector(9, {1: 1.0}), features=SparseVector(24, {0: 12.0, 1: 99.0, 6: 62.0, 7: 145.0, 8: 152.0, 9: 7.0, 16: 1.0}), rawPrediction=DenseVector([1.101, -1.101]), probability=DenseVector([0.7504, 0.2496]), prediction=0.0)]"
      ]
     },
     "execution_count": 35,
     "metadata": {},
     "output_type": "execute_result"
    }
   ],
   "source": [
    "model_test.take(1)"
   ]
  },
  {
   "cell_type": "code",
   "execution_count": 39,
   "metadata": {},
   "outputs": [],
   "source": [
    "#Model assessment\n",
    "import pyspark.ml.evaluation as ev\n",
    "\n",
    "evaluator = ev.BinaryClassificationEvaluator(\n",
    "                            rawPredictionCol  ='probability',\n",
    "                            labelCol          ='INFANT_ALIVE_AT_REPORT'\n",
    "                            )"
   ]
  },
  {
   "cell_type": "code",
   "execution_count": 40,
   "metadata": {},
   "outputs": [
    {
     "name": "stdout",
     "output_type": "stream",
     "text": [
      "0.7187355793173213\n",
      "0.6819691176245866\n"
     ]
    }
   ],
   "source": [
    "print(evaluator.evaluate(model_test, {evaluator.metricName: 'areaUnderROC'}))\n",
    "print(evaluator.evaluate(model_test, {evaluator.metricName: 'areaUnderPR'}))"
   ]
  },
  {
   "cell_type": "code",
   "execution_count": 42,
   "metadata": {},
   "outputs": [],
   "source": [
    "#Tuning\n",
    "import pyspark.ml.tuning as tune\n"
   ]
  },
  {
   "cell_type": "code",
   "execution_count": 43,
   "metadata": {},
   "outputs": [],
   "source": [
    "logistic = cl.LogisticRegression( labelCol='INFANT_ALIVE_AT_REPORT')\n",
    "\n",
    "grid = tune.ParamGridBuilder().addGrid(logistic.maxIter,[2, 10, 50]) \\\n",
    "            .addGrid(logistic.regParam, [0.01, 0.05, 0.3]) \\\n",
    "            .build()"
   ]
  },
  {
   "cell_type": "code",
   "execution_count": null,
   "metadata": {},
   "outputs": [],
   "source": [
    "evaluator = ev.BinaryClassificationEvaluator(\n",
    "                rawPredictionCol='probability',\n",
    "                labelCol='INFANT_ALIVE_AT_REPORT')"
   ]
  },
  {
   "cell_type": "code",
   "execution_count": 46,
   "metadata": {},
   "outputs": [],
   "source": [
    "cv = tune.CrossValidator(\n",
    "        estimator          = logistic,\n",
    "        estimatorParamMaps = grid,\n",
    "        evaluator          = evaluator\n",
    "     )"
   ]
  },
  {
   "cell_type": "code",
   "execution_count": 47,
   "metadata": {},
   "outputs": [],
   "source": [
    "# prepare the data with the pipeline\n",
    "pipeline = Pipeline(stages=[encoder ,featureCreator])\n",
    "data_transformer = pipeline.fit(train)\n",
    "\n",
    "# start tunin\n",
    "cvModel = cv.fit(data_transformer.transform(train))"
   ]
  },
  {
   "cell_type": "code",
   "execution_count": 54,
   "metadata": {},
   "outputs": [
    {
     "name": "stdout",
     "output_type": "stream",
     "text": [
      "0.7006044687905117\n",
      "0.7007246496676794\n",
      "0.7014474539413368\n",
      "0.73377554680586\n",
      "0.7316258506352412\n",
      "0.7239219682794967\n",
      "0.7404103462475178\n",
      "0.7352273403679913\n",
      "0.7211737166059197\n"
     ]
    }
   ],
   "source": [
    "for r in cvModel.avgMetrics: print(r)\n",
    "cvModel."
   ]
  },
  {
   "cell_type": "code",
   "execution_count": 49,
   "metadata": {},
   "outputs": [
    {
     "name": "stdout",
     "output_type": "stream",
     "text": [
      "0.735848884034915\n",
      "0.6959036715961695\n"
     ]
    }
   ],
   "source": [
    "train2  = data_transformer.transform(test)\n",
    "results = cvModel.transform(train2)\n",
    "print(evaluator.evaluate(results, {evaluator.metricName: 'areaUnderROC'}))\n",
    "print(evaluator.evaluate(results, {evaluator.metricName: 'areaUnderPR'}))"
   ]
  },
  {
   "cell_type": "code",
   "execution_count": 56,
   "metadata": {},
   "outputs": [
    {
     "data": {
      "text/plain": [
       "[([{'maxIter': 50}, {'regParam': 0.01}], 0.7404103462475178),\n",
       " ([{'maxIter': 50}, {'regParam': 0.05}], 0.7352273403679913),\n",
       " ([{'maxIter': 10}, {'regParam': 0.01}], 0.73377554680586),\n",
       " ([{'maxIter': 10}, {'regParam': 0.05}], 0.7316258506352412),\n",
       " ([{'maxIter': 10}, {'regParam': 0.3}], 0.7239219682794967),\n",
       " ([{'maxIter': 50}, {'regParam': 0.3}], 0.7211737166059197),\n",
       " ([{'maxIter': 2}, {'regParam': 0.3}], 0.7014474539413368),\n",
       " ([{'maxIter': 2}, {'regParam': 0.05}], 0.7007246496676794),\n",
       " ([{'maxIter': 2}, {'regParam': 0.01}], 0.7006044687905117)]"
      ]
     },
     "execution_count": 56,
     "metadata": {},
     "output_type": "execute_result"
    }
   ],
   "source": [
    "results = [\n",
    " (\n",
    "   [{key.name: paramValue} for key, paramValue  in zip( params.keys(), params.values())], \n",
    "   metric\n",
    " )\n",
    " for params, metric in zip( cvModel.getEstimatorParamMaps(), cvModel.avgMetrics)\n",
    "]\n",
    "\n",
    "sorted(results,key=lambda el: el[1],reverse=True)"
   ]
  }
 ],
 "metadata": {
  "kernelspec": {
   "display_name": "Python 3",
   "language": "python",
   "name": "python3"
  },
  "language_info": {
   "codemirror_mode": {
    "name": "ipython",
    "version": 3
   },
   "file_extension": ".py",
   "mimetype": "text/x-python",
   "name": "python",
   "nbconvert_exporter": "python",
   "pygments_lexer": "ipython3",
   "version": "3.7.0"
  }
 },
 "nbformat": 4,
 "nbformat_minor": 2
}
